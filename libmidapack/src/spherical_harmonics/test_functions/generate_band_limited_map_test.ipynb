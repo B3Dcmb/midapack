{
 "cells": [
  {
   "cell_type": "code",
   "execution_count": 1,
   "metadata": {},
   "outputs": [],
   "source": [
    "import numpy as np\n",
    "import healpy as hp\n",
    "import camb\n",
    "import matplotlib.pyplot as plt\n",
    "import astropy.io.fits as fits\n"
   ]
  },
  {
   "cell_type": "code",
   "execution_count": 2,
   "metadata": {},
   "outputs": [],
   "source": [
    "nside = 512 #64\n",
    "npix = 12*nside**2\n",
    "lmax = 4 # 2*nside #120"
   ]
  },
  {
   "cell_type": "code",
   "execution_count": 4,
   "metadata": {},
   "outputs": [],
   "source": [
    "fits_file = fits.open('/global/homes/m/mag/midapack/libmidapack/src/spherical_harmonics/test_functions/c_ell_file_lmax_4.fits')\n",
    "\n",
    "c_ell_data = fits_file[1].data['cell']"
   ]
  },
  {
   "cell_type": "code",
   "execution_count": 5,
   "metadata": {},
   "outputs": [
    {
     "data": {
      "text/plain": [
       "array([1.02198999e+03, 4.83707131e+02, 2.74501326e+02, 1.75106785e+02,\n",
       "       3.35966904e-02, 2.31558395e-02, 1.30274054e-02, 6.30205108e-03,\n",
       "       1.62109069e-04, 8.43358385e-05, 4.52237384e-05, 2.45132511e-05,\n",
       "       2.73161593e+00, 1.57054793e+00, 9.05205777e-01, 5.26001677e-01])"
      ]
     },
     "execution_count": 5,
     "metadata": {},
     "output_type": "execute_result"
    }
   ],
   "source": [
    "c_ell_data"
   ]
  },
  {
   "cell_type": "code",
   "execution_count": null,
   "metadata": {},
   "outputs": [],
   "source": []
  }
 ],
 "metadata": {
  "kernelspec": {
   "display_name": "ttpy37",
   "language": "python",
   "name": "python3"
  },
  "language_info": {
   "codemirror_mode": {
    "name": "ipython",
    "version": 3
   },
   "file_extension": ".py",
   "mimetype": "text/x-python",
   "name": "python",
   "nbconvert_exporter": "python",
   "pygments_lexer": "ipython3",
   "version": "3.7.13"
  },
  "orig_nbformat": 4
 },
 "nbformat": 4,
 "nbformat_minor": 2
}
