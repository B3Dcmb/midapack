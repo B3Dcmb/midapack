{
 "cells": [
  {
   "cell_type": "code",
   "execution_count": 1,
   "metadata": {},
   "outputs": [],
   "source": [
    "import numpy as np\n",
    "import healpy as hp"
   ]
  },
  {
   "cell_type": "code",
   "execution_count": 4,
   "metadata": {},
   "outputs": [
    {
     "name": "stdout",
     "output_type": "stream",
     "text": [
      "262143\n",
      "1570048\n"
     ]
    }
   ],
   "source": [
    "print(hp.ring2nest(512,0))\n",
    "print(hp.nest2ring(512,0))\n",
    "print(hp.nest2ring(512,1))"
   ]
  },
  {
   "cell_type": "code",
   "execution_count": 12,
   "metadata": {},
   "outputs": [
    {
     "data": {
      "image/png": "[encoded data removed]",
      "text/plain": [
       "<Figure size 612x388.8 with 2 Axes>"
      ]
     },
     "metadata": {
      "needs_background": "light"
     },
     "output_type": "display_data"
    }
   ],
   "source": [
    "nside=512\n",
    "npix = 12*nside**2\n",
    "gap = 100000\n",
    "gap = 10*2048\n",
    "\n",
    "first_set_ring_pixel = 0\n",
    "last_set_ring_pixel = 723968\n",
    "map = np.ones(npix)\n",
    "map[first_set_ring_pixel:first_set_ring_pixel+gap] = 0\n",
    "map[last_set_ring_pixel:last_set_ring_pixel+gap] = 0\n",
    "# map[npix-first_set_ring_pixel-gap:npix-first_set_ring_pixel] = 0\n",
    "# map[npix-last_set_ring_pixel:npix-last_set_ring_pixel+gap] = 0\n",
    "\n",
    "first_set_ring_pixel = 726016\n",
    "last_set_ring_pixel = 1571840\n",
    "map[first_set_ring_pixel:first_set_ring_pixel+gap] = -1\n",
    "map[last_set_ring_pixel:last_set_ring_pixel+gap] = -1\n",
    "# map[npix-first_set_ring_pixel-gap:npix-first_set_ring_pixel] = -1\n",
    "# map[npix-last_set_ring_pixel:npix-last_set_ring_pixel+gap] = -1\n",
    "hp.mollview(map)\n"
   ]
  }
 ],
 "metadata": {
  "kernelspec": {
   "display_name": "ttpy37",
   "language": "python",
   "name": "python3"
  },
  "language_info": {
   "codemirror_mode": {
    "name": "ipython",
    "version": 3
   },
   "file_extension": ".py",
   "mimetype": "text/x-python",
   "name": "python",
   "nbconvert_exporter": "python",
   "pygments_lexer": "ipython3",
   "version": "3.7.13"
  },
  "orig_nbformat": 4
 },
 "nbformat": 4,
 "nbformat_minor": 2
}
